{
 "cells": [
  {
   "cell_type": "markdown",
   "id": "b74cb2f4",
   "metadata": {},
   "source": [
    "### My first Program"
   ]
  },
  {
   "cell_type": "code",
   "execution_count": 2,
   "id": "a9542ff5",
   "metadata": {},
   "outputs": [
    {
     "name": "stdout",
     "output_type": "stream",
     "text": [
      "hello world\n"
     ]
    }
   ],
   "source": [
    "print(\"hello world\")"
   ]
  },
  {
   "cell_type": "code",
   "execution_count": 3,
   "id": "9da40152",
   "metadata": {},
   "outputs": [
    {
     "name": "stdout",
     "output_type": "stream",
     "text": [
      "shree\n"
     ]
    }
   ],
   "source": [
    "print(\"shree\")"
   ]
  },
  {
   "cell_type": "markdown",
   "id": "d8ad682d",
   "metadata": {},
   "source": [
    "# Data type"
   ]
  },
  {
   "cell_type": "code",
   "execution_count": null,
   "id": "697487f9",
   "metadata": {},
   "outputs": [],
   "source": [
    "name=\"shree\"\n",
    "type(name)"
   ]
  },
  {
   "cell_type": "code",
   "execution_count": 6,
   "id": "a41ff805",
   "metadata": {},
   "outputs": [
    {
     "data": {
      "text/plain": [
       "int"
      ]
     },
     "execution_count": 6,
     "metadata": {},
     "output_type": "execute_result"
    }
   ],
   "source": [
    "x=10\n",
    "type(x)"
   ]
  },
  {
   "cell_type": "code",
   "execution_count": 7,
   "id": "39405788",
   "metadata": {},
   "outputs": [
    {
     "data": {
      "text/plain": [
       "float"
      ]
     },
     "execution_count": 7,
     "metadata": {},
     "output_type": "execute_result"
    }
   ],
   "source": [
    "x=10.2\n",
    "type(x)"
   ]
  },
  {
   "cell_type": "code",
   "execution_count": 17,
   "id": "5d7c3b50",
   "metadata": {},
   "outputs": [
    {
     "data": {
      "text/plain": [
       "bool"
      ]
     },
     "execution_count": 17,
     "metadata": {},
     "output_type": "execute_result"
    }
   ],
   "source": [
    "x=True\n",
    "type(x)"
   ]
  },
  {
   "cell_type": "markdown",
   "id": "ffb1d485",
   "metadata": {},
   "source": [
    "### variables "
   ]
  },
  {
   "cell_type": "code",
   "execution_count": 18,
   "id": "fade54ff",
   "metadata": {},
   "outputs": [
    {
     "data": {
      "text/plain": [
       "'shree'"
      ]
     },
     "execution_count": 18,
     "metadata": {},
     "output_type": "execute_result"
    }
   ],
   "source": [
    "name=\"shree\"\n",
    "name"
   ]
  },
  {
   "cell_type": "code",
   "execution_count": 19,
   "id": "4fbcb1b8",
   "metadata": {},
   "outputs": [
    {
     "ename": "SyntaxError",
     "evalue": "invalid syntax (1536074168.py, line 1)",
     "output_type": "error",
     "traceback": [
      "\u001b[1;36m  Cell \u001b[1;32mIn[19], line 1\u001b[1;36m\u001b[0m\n\u001b[1;33m    name lists=\"rahul\",\"ganesh\"\u001b[0m\n\u001b[1;37m         ^\u001b[0m\n\u001b[1;31mSyntaxError\u001b[0m\u001b[1;31m:\u001b[0m invalid syntax\n"
     ]
    }
   ],
   "source": [
    "name lists=\"rahul\",\"ganesh\"\n",
    "name lists"
   ]
  },
  {
   "cell_type": "markdown",
   "id": "161304e3",
   "metadata": {},
   "source": [
    "### variable name should not have space"
   ]
  },
  {
   "cell_type": "code",
   "execution_count": 20,
   "id": "8ff84766",
   "metadata": {},
   "outputs": [
    {
     "ename": "SyntaxError",
     "evalue": "invalid decimal literal (187750321.py, line 1)",
     "output_type": "error",
     "traceback": [
      "\u001b[1;36m  Cell \u001b[1;32mIn[20], line 1\u001b[1;36m\u001b[0m\n\u001b[1;33m    2names=\"rahul\",\"ganesh\"\u001b[0m\n\u001b[1;37m    ^\u001b[0m\n\u001b[1;31mSyntaxError\u001b[0m\u001b[1;31m:\u001b[0m invalid decimal literal\n"
     ]
    }
   ],
   "source": [
    "2names=\"rahul\",\"ganesh\"\n",
    "2names"
   ]
  },
  {
   "cell_type": "markdown",
   "id": "f399cd0f",
   "metadata": {},
   "source": [
    "### variable name should not start with a number"
   ]
  },
  {
   "cell_type": "code",
   "execution_count": 21,
   "id": "f2a965b3",
   "metadata": {},
   "outputs": [
    {
     "data": {
      "text/plain": [
       "('rahul', 'ganesh')"
      ]
     },
     "execution_count": 21,
     "metadata": {},
     "output_type": "execute_result"
    }
   ],
   "source": [
    "name2s=\"rahul\",\"ganesh\"\n",
    "name2s"
   ]
  },
  {
   "cell_type": "code",
   "execution_count": 22,
   "id": "37806ebf",
   "metadata": {},
   "outputs": [
    {
     "data": {
      "text/plain": [
       "('rahul', 'ganesh')"
      ]
     },
     "execution_count": 22,
     "metadata": {},
     "output_type": "execute_result"
    }
   ],
   "source": [
    "name_lists=\"rahul\",\"ganesh\"\n",
    "name_lists"
   ]
  },
  {
   "cell_type": "code",
   "execution_count": 23,
   "id": "511b9fab",
   "metadata": {},
   "outputs": [
    {
     "ename": "SyntaxError",
     "evalue": "cannot assign to expression here. Maybe you meant '==' instead of '='? (1252159434.py, line 1)",
     "output_type": "error",
     "traceback": [
      "\u001b[1;36m  Cell \u001b[1;32mIn[23], line 1\u001b[1;36m\u001b[0m\n\u001b[1;33m    name+lists=\"rahul\",\"ganesh\"\u001b[0m\n\u001b[1;37m    ^\u001b[0m\n\u001b[1;31mSyntaxError\u001b[0m\u001b[1;31m:\u001b[0m cannot assign to expression here. Maybe you meant '==' instead of '='?\n"
     ]
    }
   ],
   "source": [
    "name+lists=\"rahul\",\"ganesh\"\n",
    "name+lists"
   ]
  },
  {
   "cell_type": "markdown",
   "id": "4717ceca",
   "metadata": {},
   "source": [
    "### The only allowed special character is underscore"
   ]
  },
  {
   "cell_type": "code",
   "execution_count": 24,
   "id": "a84aa53a",
   "metadata": {},
   "outputs": [
    {
     "data": {
      "text/plain": [
       "'la'"
      ]
     },
     "execution_count": 24,
     "metadata": {},
     "output_type": "execute_result"
    }
   ],
   "source": [
    "_names=\"la\"\n",
    "_names"
   ]
  },
  {
   "cell_type": "markdown",
   "id": "cb831422",
   "metadata": {},
   "source": [
    "### variable names can start with A-Z,a-z,_"
   ]
  },
  {
   "cell_type": "markdown",
   "id": "3cc44fe4",
   "metadata": {},
   "source": [
    "### Lists"
   ]
  },
  {
   "cell_type": "code",
   "execution_count": 26,
   "id": "e9af9414",
   "metadata": {},
   "outputs": [
    {
     "data": {
      "text/plain": [
       "[1, 2, 3, 4, 0, -1, 1, 1.2, 'hi']"
      ]
     },
     "execution_count": 26,
     "metadata": {},
     "output_type": "execute_result"
    }
   ],
   "source": [
    "sample_list=[1,2,3,4,0,-1,1,1.2,\"hi\"]\n",
    "sample_list"
   ]
  },
  {
   "cell_type": "code",
   "execution_count": 27,
   "id": "4943ffaf",
   "metadata": {},
   "outputs": [
    {
     "data": {
      "text/plain": [
       "list"
      ]
     },
     "execution_count": 27,
     "metadata": {},
     "output_type": "execute_result"
    }
   ],
   "source": [
    "type(sample_list)"
   ]
  },
  {
   "cell_type": "code",
   "execution_count": 28,
   "id": "2f68c300",
   "metadata": {},
   "outputs": [
    {
     "data": {
      "text/plain": [
       "1"
      ]
     },
     "execution_count": 28,
     "metadata": {},
     "output_type": "execute_result"
    }
   ],
   "source": [
    "sample_list[0]"
   ]
  },
  {
   "cell_type": "code",
   "execution_count": 29,
   "id": "8b002065",
   "metadata": {},
   "outputs": [
    {
     "ename": "IndexError",
     "evalue": "list index out of range",
     "output_type": "error",
     "traceback": [
      "\u001b[1;31m---------------------------------------------------------------------------\u001b[0m",
      "\u001b[1;31mIndexError\u001b[0m                                Traceback (most recent call last)",
      "Cell \u001b[1;32mIn[29], line 1\u001b[0m\n\u001b[1;32m----> 1\u001b[0m sample_list[\u001b[38;5;241m10\u001b[39m]\n",
      "\u001b[1;31mIndexError\u001b[0m: list index out of range"
     ]
    }
   ],
   "source": [
    "sample_list[10]"
   ]
  },
  {
   "cell_type": "code",
   "execution_count": 30,
   "id": "8909ebab",
   "metadata": {},
   "outputs": [
    {
     "data": {
      "text/plain": [
       "'hi'"
      ]
     },
     "execution_count": 30,
     "metadata": {},
     "output_type": "execute_result"
    }
   ],
   "source": [
    "sample_list[-1]"
   ]
  },
  {
   "cell_type": "code",
   "execution_count": 31,
   "id": "eceaadf5",
   "metadata": {},
   "outputs": [
    {
     "data": {
      "text/plain": [
       "[11, 2, 3, 4, 0, -1, 1, 1.2, 'hi']"
      ]
     },
     "execution_count": 31,
     "metadata": {},
     "output_type": "execute_result"
    }
   ],
   "source": [
    "sample_list[0]=11\n",
    "sample_list"
   ]
  },
  {
   "cell_type": "markdown",
   "id": "7169d815",
   "metadata": {},
   "source": [
    "### square brakets\n",
    "### elements can be retrieved using index\n",
    "### mutable-> can change\n",
    "### heterogenous-> multiple data type"
   ]
  },
  {
   "cell_type": "markdown",
   "id": "fed08cdd",
   "metadata": {},
   "source": [
    "### tuples"
   ]
  },
  {
   "cell_type": "code",
   "execution_count": 36,
   "id": "8ba73250",
   "metadata": {},
   "outputs": [
    {
     "data": {
      "text/plain": [
       "(1, 2, 3, 4, 5)"
      ]
     },
     "execution_count": 36,
     "metadata": {},
     "output_type": "execute_result"
    }
   ],
   "source": [
    "sample_tuple=(1,2,3,4,5)\n",
    "sample_tuple"
   ]
  },
  {
   "cell_type": "code",
   "execution_count": 33,
   "id": "8ac3bdf6",
   "metadata": {},
   "outputs": [
    {
     "data": {
      "text/plain": [
       "1"
      ]
     },
     "execution_count": 33,
     "metadata": {},
     "output_type": "execute_result"
    }
   ],
   "source": [
    "sample_tuple[0]"
   ]
  },
  {
   "cell_type": "code",
   "execution_count": 34,
   "id": "70c72bf4",
   "metadata": {},
   "outputs": [
    {
     "data": {
      "text/plain": [
       "5"
      ]
     },
     "execution_count": 34,
     "metadata": {},
     "output_type": "execute_result"
    }
   ],
   "source": [
    "sample_tuple[-1]"
   ]
  },
  {
   "cell_type": "code",
   "execution_count": 35,
   "id": "b97b8282",
   "metadata": {},
   "outputs": [
    {
     "ename": "TypeError",
     "evalue": "'tuple' object does not support item assignment",
     "output_type": "error",
     "traceback": [
      "\u001b[1;31m---------------------------------------------------------------------------\u001b[0m",
      "\u001b[1;31mTypeError\u001b[0m                                 Traceback (most recent call last)",
      "Cell \u001b[1;32mIn[35], line 1\u001b[0m\n\u001b[1;32m----> 1\u001b[0m sample_tuple[\u001b[38;5;241m0\u001b[39m]\u001b[38;5;241m=\u001b[39m\u001b[38;5;241m100\u001b[39m\n",
      "\u001b[1;31mTypeError\u001b[0m: 'tuple' object does not support item assignment"
     ]
    }
   ],
   "source": [
    "sample_tuple[0]=100"
   ]
  },
  {
   "cell_type": "markdown",
   "id": "b7230fcd",
   "metadata": {},
   "source": [
    "### tuple is immutable->cannot make changes"
   ]
  },
  {
   "cell_type": "markdown",
   "id": "5765dcb8",
   "metadata": {},
   "source": [
    "### () or no bracket"
   ]
  },
  {
   "cell_type": "markdown",
   "id": "2d7b23b8",
   "metadata": {},
   "source": [
    "### dictionary"
   ]
  },
  {
   "cell_type": "code",
   "execution_count": 39,
   "id": "5a293fb7",
   "metadata": {},
   "outputs": [],
   "source": [
    " dic_1={'name':\"arun\",\"hobbies\":[\"painting\",\"singing\"],5:2.3}"
   ]
  },
  {
   "cell_type": "code",
   "execution_count": 42,
   "id": "89a2ce73",
   "metadata": {},
   "outputs": [
    {
     "data": {
      "text/plain": [
       "dict"
      ]
     },
     "execution_count": 42,
     "metadata": {},
     "output_type": "execute_result"
    }
   ],
   "source": [
    "type(dic_1)"
   ]
  },
  {
   "cell_type": "code",
   "execution_count": 43,
   "id": "a347d5d3",
   "metadata": {},
   "outputs": [
    {
     "data": {
      "text/plain": [
       "{'name': 'arun', 'hobbies': ['painting', 'singing'], 5: 2.3}"
      ]
     },
     "execution_count": 43,
     "metadata": {},
     "output_type": "execute_result"
    }
   ],
   "source": [
    "dic_1"
   ]
  },
  {
   "cell_type": "code",
   "execution_count": 44,
   "id": "8c11ab08",
   "metadata": {},
   "outputs": [
    {
     "data": {
      "text/plain": [
       "dict_keys(['name', 'hobbies', 5])"
      ]
     },
     "execution_count": 44,
     "metadata": {},
     "output_type": "execute_result"
    }
   ],
   "source": [
    "dic_1.keys()"
   ]
  },
  {
   "cell_type": "code",
   "execution_count": 45,
   "id": "75c83aa1",
   "metadata": {},
   "outputs": [
    {
     "data": {
      "text/plain": [
       "dict_values(['arun', ['painting', 'singing'], 2.3])"
      ]
     },
     "execution_count": 45,
     "metadata": {},
     "output_type": "execute_result"
    }
   ],
   "source": [
    "dic_1.values()"
   ]
  },
  {
   "cell_type": "code",
   "execution_count": 46,
   "id": "65287f72",
   "metadata": {},
   "outputs": [
    {
     "data": {
      "text/plain": [
       "['painting', 'singing']"
      ]
     },
     "execution_count": 46,
     "metadata": {},
     "output_type": "execute_result"
    }
   ],
   "source": [
    "dic_1['hobbies']"
   ]
  },
  {
   "cell_type": "code",
   "execution_count": 47,
   "id": "9bbd0942",
   "metadata": {},
   "outputs": [],
   "source": [
    "dic_1['names']=\"shree\""
   ]
  },
  {
   "cell_type": "code",
   "execution_count": 48,
   "id": "a243d7ee",
   "metadata": {},
   "outputs": [
    {
     "data": {
      "text/plain": [
       "{'name': 'arun', 'hobbies': ['painting', 'singing'], 5: 2.3, 'names': 'shree'}"
      ]
     },
     "execution_count": 48,
     "metadata": {},
     "output_type": "execute_result"
    }
   ],
   "source": [
    "dic_1"
   ]
  },
  {
   "cell_type": "markdown",
   "id": "4d59ab26",
   "metadata": {},
   "source": [
    "### key-value pair data structure\n",
    "### we can retrieve values using index \n",
    "### dictionary mutable"
   ]
  },
  {
   "cell_type": "markdown",
   "id": "57d14dd1",
   "metadata": {},
   "source": [
    " ### {}"
   ]
  },
  {
   "cell_type": "code",
   "execution_count": null,
   "id": "20554df1",
   "metadata": {},
   "outputs": [],
   "source": []
  }
 ],
 "metadata": {
  "kernelspec": {
   "display_name": "Python 3 (ipykernel)",
   "language": "python",
   "name": "python3"
  },
  "language_info": {
   "codemirror_mode": {
    "name": "ipython",
    "version": 3
   },
   "file_extension": ".py",
   "mimetype": "text/x-python",
   "name": "python",
   "nbconvert_exporter": "python",
   "pygments_lexer": "ipython3",
   "version": "3.11.5"
  }
 },
 "nbformat": 4,
 "nbformat_minor": 5
}
